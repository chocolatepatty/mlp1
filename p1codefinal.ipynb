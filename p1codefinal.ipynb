{
 "cells": [
  {
   "cell_type": "code",
   "execution_count": 25,
   "metadata": {},
   "outputs": [
    {
     "data": {
      "image/png": "[encoded data removed]",
      "text/plain": [
       "<Figure size 432x288 with 1 Axes>"
      ]
     },
     "metadata": {
      "needs_background": "light"
     },
     "output_type": "display_data"
    },
    {
     "name": "stdout",
     "output_type": "stream",
     "text": [
      "Mean squared error for training data (simple predictor) =  0.7767772386501273\n",
      "Mean squared error for test data (simple predictor) =  0.8138573000045545\n",
      "Mean squared error for training data (linear predictor) =  0.5639996173942025\n",
      "Mean squared error for test data (linear predictor) =  0.5607292068714265\n",
      "[2.52110294 1.047805   0.75014328 0.64711719 0.62380193 0.62265375\n",
      " 0.60394102 0.59347511 0.58767081 0.58026419 0.57579764 0.58373866\n",
      " 0.57757232 0.56911739 0.56810639 0.5709148  0.57038889 0.56769223\n",
      " 0.56625872 0.56627174 0.56656629 0.56420703 0.5646946  0.56091903\n",
      " 0.56101898 0.56176206 0.56253577 0.56220853 0.56305215 0.5646306 ]\n",
      "[0.31537177 0.56982283 0.53909119 0.49022631 0.56327099 0.54317797\n",
      " 0.57227396 0.56128541 0.5464631  0.53263232 0.53905603 0.59622609\n",
      " 0.60154303 0.59216926 0.57414077 0.55904847 0.56540704 0.55198847\n",
      " 0.54129849 0.52896093 0.52247071 0.52289619 0.52250431 0.55163728\n",
      " 0.5544105  0.5587186  0.55418193 0.5501282  0.55072958 0.56875871]\n"
     ]
    },
    {
     "data": {
      "text/plain": [
       "[<matplotlib.lines.Line2D at 0x7f46ac9bbc88>]"
      ]
     },
     "execution_count": 25,
     "metadata": {},
     "output_type": "execute_result"
    },
    {
     "data": {
      "image/png": "[encoded data removed]",
      "text/plain": [
       "<Figure size 432x288 with 1 Axes>"
      ]
     },
     "metadata": {
      "needs_background": "light"
     },
     "output_type": "display_data"
    }
   ],
   "source": [
    "import _pickle as cp\n",
    "import numpy as np\n",
    "X, y = cp.load(open('winequality-white.pickle', 'rb'))\n",
    "\n",
    "N, D = X.shape\n",
    "N_train = int(0.8 * N)\n",
    "N_test = N - N_train\n",
    "X_train = X[:N_train]\n",
    "y_train = y[:N_train]\n",
    "X_test = X[N_train:]\n",
    "y_test = y[N_train:]\n",
    "\n",
    "#produce frequency graph\n",
    "yp = list(y_train)\n",
    "#cheaty way to remove duplicates\n",
    "ynodl = list(set(y_train))\n",
    "ynodl.sort()\n",
    "\n",
    "frequencies = np.array(list(map(lambda x: yp.count(x),ynodl)))\n",
    "\n",
    "\n",
    "import matplotlib.pyplot as plt\n",
    "from matplotlib.ticker import MaxNLocator\n",
    "from collections import namedtuple\n",
    "\n",
    "n_groups = len(ynodl)\n",
    "\n",
    "fig, ax = plt.subplots()\n",
    "\n",
    "index = np.arange(n_groups)\n",
    "bar_width = 0.35\n",
    "opacity = 0.4\n",
    "\n",
    "rects1 = ax.bar(index, frequencies, bar_width, alpha=opacity, color='b')\n",
    "\n",
    "ax.set_xlabel('y-values')\n",
    "ax.set_ylabel('frequency')\n",
    "ax.set_title('y-frequencies')\n",
    "ax.set_xticklabels(np.array(ynodl)-1)\n",
    "\n",
    "fig.tight_layout()\n",
    "plt.show()\n",
    "\n",
    "\n",
    "#calculate mean squared error\n",
    "mean = sum(list(y_train))/len(y_train)\n",
    "#variance is same as msr for the simple predictor!\n",
    "variance = sum(list(map(lambda x: x ** 2,list(y_train))))/len(y_train) - mean ** 2\n",
    "squareResidualstest = list(map(lambda x: (x-mean) ** 2, list(y_test)))\n",
    "msrtest = sum(squareResidualstest)/len(squareResidualstest)\n",
    "squareResidualstrain = list(map(lambda x: (x-mean) ** 2, list(y_train)))\n",
    "msrtrain = sum(squareResidualstrain)/len(squareResidualstrain)\n",
    "print(\"Mean squared error for training data (simple predictor) = \", msrtrain)\n",
    "print(\"Mean squared error for test data (simple predictor) = \", msrtest)\n",
    "\n",
    "stndrdtrain2 = list(map(lambda x: (x-mean)/np.sqrt(variance), list(X_train)))\n",
    "stndrdtest2 = list(map(lambda x: (x-mean)/np.sqrt(variance), list(X_test)))\n",
    "\n",
    "stndrdtrain = np.c_[np.ones(len(stndrdtrain2)),stndrdtrain2]\n",
    "stndrdtest = np.c_[np.ones(len(stndrdtest2)),stndrdtest2]\n",
    "\n",
    "w = np.matmul(np.matmul(np.linalg.inv(np.matmul(np.transpose(stndrdtrain),stndrdtrain)),np.transpose(stndrdtrain)),y_train)\n",
    "yhattrain = np.matmul(stndrdtrain,w)\n",
    "yhattest = np.matmul(stndrdtest,w)\n",
    "\n",
    "squareResidualstrain2 = list(map(lambda x: x ** 2, list(y_train-yhattrain)))\n",
    "msrtrain2 = sum(squareResidualstrain2)/len(squareResidualstrain2)\n",
    "print(\"Mean squared error for training data (linear predictor) = \", msrtrain2)\n",
    "\n",
    "squareResidualstest2 = list(map(lambda x: x ** 2, list(y_test-yhattest)))\n",
    "msrtest2 = sum(squareResidualstest2)/len(squareResidualstest2)\n",
    "print(\"Mean squared error for test data (linear predictor) = \", msrtest2)\n",
    "\n",
    "#entries are error for 20,40,60,...,600 datapoints\n",
    "dpno = np.array(list(map(lambda x: x * 20,list(range(1,31)))))\n",
    "msrarraytest = np.array(list(map(lambda x: sum(list(map(lambda z: z ** 2, list(y_test-np.matmul(stndrdtest,np.matmul(np.matmul(np.linalg.inv(np.matmul(np.transpose(stndrdtrain[0:x]),stndrdtrain[0:x])),np.transpose(stndrdtrain[0:x])),y_train[0:x]))))))/len(list(map(lambda x: x ** 2, list(y_test-np.matmul(stndrdtest,np.matmul(np.matmul(np.linalg.inv(np.matmul(np.transpose(stndrdtrain[0:x]),stndrdtrain[0:x])),np.transpose(stndrdtrain[0:x])),y_train[0:x])))))),dpno)))\n",
    "msrarraytrain = np.array(list(map(lambda x: sum(list(map(lambda z: z ** 2, list(y_train[0:x]-np.matmul(stndrdtrain[0:x],np.matmul(np.matmul(np.linalg.inv(np.matmul(np.transpose(stndrdtrain[0:x]),stndrdtrain[0:x])),np.transpose(stndrdtrain[0:x])),y_train[0:x]))))))/len(list(map(lambda x: x ** 2, list(y_train[0:x]-np.matmul(stndrdtrain[0:x],np.matmul(np.matmul(np.linalg.inv(np.matmul(np.transpose(stndrdtrain[0:x]),stndrdtrain[0:x])),np.transpose(stndrdtrain[0:x])),y_train[0:x])))))),dpno)))\n",
    "\n",
    "print(msrarraytest)\n",
    "print(msrarraytrain)\n",
    "\n",
    "n_groups = len(dpno)\n",
    "\n",
    "fig, ax = plt.subplots()\n",
    "\n",
    "index = np.arange(n_groups)\n",
    "opacity = 0.4\n",
    "\n",
    "#error for test data\n",
    "ax.plot(index, msrarraytest, alpha=opacity, color='b')\n",
    "ax.plot(index, msrarraytrain, alpha=opacity, color='r')\n",
    "\n"
   ]
  },
  {
   "cell_type": "code",
   "execution_count": null,
   "metadata": {},
   "outputs": [],
   "source": []
  },
  {
   "cell_type": "code",
   "execution_count": null,
   "metadata": {},
   "outputs": [],
   "source": []
  }
 ],
 "metadata": {
  "kernelspec": {
   "display_name": "Python 3",
   "language": "python",
   "name": "python3"
  },
  "language_info": {
   "codemirror_mode": {
    "name": "ipython",
    "version": 3
   },
   "file_extension": ".py",
   "mimetype": "text/x-python",
   "name": "python",
   "nbconvert_exporter": "python",
   "pygments_lexer": "ipython3",
   "version": "3.6.6"
  }
 },
 "nbformat": 4,
 "nbformat_minor": 2
}
